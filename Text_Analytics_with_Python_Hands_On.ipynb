{
  "cells": [
    {
      "cell_type": "markdown",
      "metadata": {
        "id": "3fVv22izm1Ie"
      },
      "source": [
        "This workshop we will be using the NLTK library to walk you through some basic steps of a text analytics project. NLTK is a library used to work with human language data.\n",
        "\n",
        "\"Text analytics is the automated process of translating large volumes of unstructured text into quantitative data to uncover insights, trends, and patterns. Combined with data visualization tools, this technique enables companies to understand the story behind the numbers and make better decisions.\" -monkeylearn.com\n",
        "\n",
        "Some basic steps of text mining we are going to demonstrate include:\n",
        "\n",
        "       -tokenize text\n",
        "       -clean punctuations \n",
        "       -remove stop words \n",
        "       -stem and lemmatize words \n",
        "       -tag words \n",
        "       -parse words\n",
        "       -work with text data in pandas and dataframes\n",
        "       -sentiment analysis"
      ]
    },
    {
      "cell_type": "code",
      "execution_count": null,
      "metadata": {
        "id": "PMo9jMjzm1Ih"
      },
      "outputs": [],
      "source": [
        "from pathlib import Path \n",
        "import pandas as pd \n",
        "import os \n",
        "import glob \n",
        "import sys "
      ]
    },
    {
      "cell_type": "markdown",
      "metadata": {
        "id": "MSxMor5vm1Ii"
      },
      "source": [
        "### Import files\n",
        "\n",
        "In order to import a folder of files, we use the os.chdir function to first navigate to the right directory.\n",
        "\n",
        "Then we use glob.glob function to iterate through all files."
      ]
    },
    {
      "cell_type": "code",
      "execution_count": null,
      "metadata": {
        "id": "3ngBGcyMm1Ii"
      },
      "outputs": [],
      "source": [
        "my_dir = \"Sample_data\"\n",
        "os.chdir(my_dir) "
      ]
    },
    {
      "cell_type": "code",
      "source": [
        "reviewList=[]\n",
        "#Your Code Here\n"
      ],
      "metadata": {
        "id": "450u00VYaz-C"
      },
      "execution_count": null,
      "outputs": []
    },
    {
      "cell_type": "markdown",
      "metadata": {
        "id": "Lsaj5MSKm1Ij"
      },
      "source": [
        "Convert the review list into a huge string."
      ]
    },
    {
      "cell_type": "code",
      "execution_count": null,
      "metadata": {
        "scrolled": false,
        "id": "EJL8CQZ1m1Ij"
      },
      "outputs": [],
      "source": [
        "#Your Code Here\n"
      ]
    },
    {
      "cell_type": "markdown",
      "metadata": {
        "id": "6V57_YF5m1Ik"
      },
      "source": [
        "### Remove punctuation and stop words\n",
        "Tokenization is the process by which big quantity of text is divided into smaller parts called tokens.\n",
        "\n",
        "http://www.nltk.org/nltk_data/"
      ]
    },
    {
      "cell_type": "code",
      "execution_count": null,
      "metadata": {
        "id": "s2tvpESTm1Ik"
      },
      "outputs": [],
      "source": [
        "import nltk\n",
        "# nltk.download_shell() for mac users"
      ]
    },
    {
      "cell_type": "code",
      "execution_count": null,
      "metadata": {
        "id": "lAMtYkTZm1Il"
      },
      "outputs": [],
      "source": [
        "from nltk.corpus import stopwords \n",
        "from nltk.tokenize import word_tokenize "
      ]
    },
    {
      "cell_type": "code",
      "execution_count": null,
      "metadata": {
        "id": "UgQpOXZxm1Il"
      },
      "outputs": [],
      "source": [
        "nltk.download('punkt')\n",
        "\n",
        "punctuations = \"$?:!.,;/\\\\&*)--(...-``''\" \n",
        "#Your Code Here\n"
      ]
    },
    {
      "cell_type": "code",
      "execution_count": null,
      "metadata": {
        "id": "fqDfBOaum1Im"
      },
      "outputs": [],
      "source": [
        "nltk.download('stopwords')\n",
        "\n",
        "stop_words = set(stopwords.words('english'))\n",
        "stop_words.add(\"'m\")\n",
        "\n",
        "#Your Code Here\n"
      ]
    },
    {
      "cell_type": "markdown",
      "metadata": {
        "id": "_mbhM-Hzm1In"
      },
      "source": [
        "### Stemming and Lemmatization\n",
        "\n",
        "To reduce inflectional forms and sometimes derivationally related forms of a word to a common base form.\n",
        "\n",
        "Stemming usually refers to a crude heuristic process that chops off the ends of words in the hope of achieving this goal correctly most of the time, and often includes the removal of derivational affixes. \n",
        "\n",
        "Lemmatization usually refers to doing things properly with the use of a vocabulary and morphological analysis of words, normally aiming to remove inflectional endings only and to return the base or dictionary form of a word, which is known as the lemma ."
      ]
    },
    {
      "cell_type": "code",
      "execution_count": null,
      "metadata": {
        "id": "h5CfmINPm1In"
      },
      "outputs": [],
      "source": [
        "from nltk.stem import PorterStemmer \n",
        "from nltk.stem import SnowballStemmer\n",
        "\n",
        "#Your Code Here\n"
      ]
    },
    {
      "cell_type": "code",
      "execution_count": null,
      "metadata": {
        "id": "KMSUP7RDm1Io"
      },
      "outputs": [],
      "source": [
        "nltk.download('wordnet') #lexical database for English (nouns, adjectives, adverbs, verbs)\n",
        "nltk.download('omw-1.4')\n",
        "\n",
        "from nltk.stem import WordNetLemmatizer \n",
        "\n",
        "#Your Code Here\n"
      ]
    },
    {
      "cell_type": "markdown",
      "metadata": {
        "id": "Oq22eaVNm1Io"
      },
      "source": [
        "### Speech Tagging"
      ]
    },
    {
      "cell_type": "markdown",
      "metadata": {
        "id": "xfYcsQuVm1Io"
      },
      "source": [
        "    CC   coordinating conjunction\n",
        "    CD   cardinal digit\n",
        "    DT   determiner\n",
        "    EX   existential there (like: \"there is\" ... think of it like \"there exists\")\n",
        "    FW   foreign word\n",
        "    IN   preposition/subordinating conjunction\n",
        "    JJ   adjective 'big'\n",
        "    JJR   adjective, comparative 'bigger'\n",
        "    JJS   adjective, superlative 'biggest'\n",
        "    LS   list marker 1)\n",
        "    MD   modal could, will\n",
        "    NN   noun, singular 'desk'\n",
        "    NNS   noun plural 'desks'\n",
        "    NNP   proper noun, singular 'Harrison'\n",
        "    NNPS   proper noun, plural 'Americans'\n",
        "    PDT   predeterminer 'all the kids'\n",
        "    POS   possessive ending parent's\n",
        "    PRP   personal pronoun I, he, she\n",
        "    PRP$   possessive pronoun my, his, hers\n",
        "    \n",
        "    RB   adverb very, silently\n",
        "    RBR   adverb, comparative better\n",
        "    UH   interjection errrrrrrrm\n",
        "    VB   verb, base form take\n",
        "    VBD   verb, past tense took\n",
        "    VBG   verb, gerund/present participle taking\n",
        "    VBN   verb, past participle taken\n",
        "    VBP   verb, sing. present, non-3d take\n",
        "    VBZ   verb, 3rd person sing. present takes\n",
        "    WDT   wh-determiner which\n",
        "    WP   wh-pronoun who, what\n",
        "    WP$   possessive wh-pronoun whose\n",
        "    WRB   wh-abverb where, when\n",
        "    RBS   adverb, superlative best\n",
        "    RP   particle give up\n",
        "    TO   to go 'to' the store\n"
      ]
    },
    {
      "cell_type": "markdown",
      "metadata": {
        "id": "y3UAyId0m1Ip"
      },
      "source": [
        "#### 1. Use tags for lemmatization"
      ]
    },
    {
      "cell_type": "markdown",
      "metadata": {
        "id": "JIPHNY7Lm1Ip"
      },
      "source": [
        "pos_tag gets the tag for the word, it comes in form of a list of tuples[(word1, tag1)(word2, tag2)(word3, tag3)].\n",
        "\n",
        "Use indexing to drill down: the first[0] gets to the individual tuples, the [1] gets to the tags, and the [0] grabs the first letter of a tag."
      ]
    },
    {
      "cell_type": "code",
      "execution_count": null,
      "metadata": {
        "scrolled": false,
        "id": "XsCQaU0vm1Ip",
        "colab": {
          "base_uri": "https://localhost:8080/"
        },
        "outputId": "f0a5575b-61aa-4010-962c-c2780977800d"
      },
      "outputs": [
        {
          "output_type": "stream",
          "name": "stderr",
          "text": [
            "[nltk_data] Downloading package averaged_perceptron_tagger to\n",
            "[nltk_data]     /root/nltk_data...\n",
            "[nltk_data]   Package averaged_perceptron_tagger is already up-to-\n",
            "[nltk_data]       date!\n"
          ]
        },
        {
          "output_type": "stream",
          "name": "stdout",
          "text": [
            "N\n",
            "[\"'conflict\", \"'d\", \"'ll\", \"'ll\", \"'ll\", \"'ll\", \"'ll\", \"'ll\", \"'officer\", \"'re\", \"'s\", \"'s\", \"'s\", \"'s\", \"'s\", \"'s\", \"'s\", \"'s\", \"'s\", \"'s\", \"'s\", \"'s\", \"'s\", \"'s\", \"'s\", \"'s\", \"'s\", \"'s\", \"'s\", \"'s\", \"'s\", \"'s\", \"'s\", \"'s\", \"'s\", \"'s\", \"'s\", \"'s\", \"'s\", \"'s\", \"'s\", \"'s\", \"'s\", \"'s\", \"'s\", \"'s\", \"'ve\", \"'ve\", \"'ve\", \"'ve\", '1/2', '10', '10', '10', '100th', '12', '15', '1940s', '1970', '1982', '1million', '1st', '1st', '2', '2', '2/3', '20', '20', '2003', '22', '22', '24', '25', '4', '4', '40', '5', '5m', '6', '6', '60', '7', '70mm', '77', '77', 'ability', 'ability', 'able', 'able', 'abyss', 'accident', 'acclaim', 'achieve', 'act', 'act', 'act', 'act', 'action', 'action', 'action', 'actor', 'actor', 'actor', 'actor', 'actor', 'actor', 'actual', 'actually', 'actually', 'adapts', 'admit', 'advance', 'aerial', 'aftermath', 'aftertaste', 'afterward', 'age', 'age', 'agree', 'air', 'airstation', 'ala', 'alaska', 'albert', 'allow', 'almost', 'almost', 'almost', 'along', 'alongside', 'already', 'also', 'also', 'also', 'although', 'always', 'always', 'always', 'always', 'always', 'amaze', 'amaze', 'amazingly', 'andrew', 'andrew', 'andrew', 'andrew', 'andrew', 'another', 'another', 'another', 'another', 'another', 'anti-climactic', 'anymore', 'anyone', 'anyone', 'anyone', 'anything', 'anything', 'anything', 'apart', 'apparently', 'appear', 'appear', 'appearance', 'applause', 'applause', 'appreciate', 'appreciate', 'aptitude', 'around', 'around', 'around', 'around', 'around', 'artificially', 'ashore', 'ashore', 'ashton', 'ashton', 'ashton', 'ashton', 'ashton', 'ashton', 'ashton', 'aside', 'ask', 'assist', 'assistant', 'assistant', 'assume', 'astoundingly', 'attempt', 'attention', 'attention', 'attune', 'audience', 'audience', 'audience', 'audience', 'australia', 'autobiographical', 'aviation', 'away', 'awe', 'awesome', 'awful', 'back', 'backdraft', 'backdraft', 'bad', 'bad', 'bad', 'badger', 'baffling', 'bar', 'bar', 'bar', 'barely', 'barnacle', 'base', 'base', 'baseball', 'battening', 'beach', 'bear', 'beautiful', 'become', 'becomes', 'becomes', 'befuddle', 'begin', 'begin', 'beguiling', 'behavior', 'behold', 'believable', 'believe', 'believe', 'bellowing', 'ben', 'ben', 'best', 'best', 'best', 'best', 'best', 'best', 'best', 'big', 'big', 'binge', 'bit', 'bit', 'blake', 'blake', 'blank', 'bleating', 'blown', 'blustery', 'board', 'boat', 'boater', 'bodyguard', 'boring', 'boring', 'boring', 'borrow', 'borrowing', 'borrows', 'bos', 'bout', 'boy', 'boyfriend', 'branch', 'bravery', 'breathtaking', 'brilliant-but-unreliable', 'british', 'broke', 'brought', 'bryce', 'build', 'butt', 'butter', 'butterfly', 'buy', 'buy', 'ca', 'ca', 'calm', 'capable', 'captain', 'captain', 'cardboard', 'care', 'care', 'care', 'care', 'care', 'career', 'careful', 'carry', 'carry', 'case', 'case', 'cast', 'catch', 'caught', 'cause', 'cease', 'celebrity', 'center', 'center', 'center', 'center', 'certainly', 'cg', 'challenge', 'chance', 'character', 'character', 'character', 'character', 'character', 'character', 'character', 'character', 'character', 'character', 'character', 'character', 'character', 'character', 'character', 'character', 'character', 'character', 'character', 'character', 'character', 'character', 'check', 'cheesy', 'chemistry', 'cheque', 'chief', 'chief', 'chief', 'cinema', 'circumstance', 'claim', 'claim', 'claim', 'class', 'classic', 'clear', 'clear', 'clear', 'cleopatra', 'clever', 'clichés', 'climactic', 'climax', 'clint', 'close', 'close', 'closet', 'closet', 'clutter', 'coast', 'coast', 'coast', 'coast', 'coast', 'coast', 'coast', 'coast', 'coast', 'coast', 'coast', 'coaxed', 'cocky', 'coherency', 'coiffed', 'collage', 'collectively', 'colossal', 'combat', 'combination', 'come', 'come', 'come', 'come', 'come', 'come', 'come', 'comedy', 'comedy', 'comedy', 'command', 'command', 'command', 'command', 'comment', 'common', 'compliment', 'concern', 'concerned', 'condone', 'conflict', 'confuse', 'confusion', 'connect', 'connive', 'consider', 'controller', 'controller', 'conversation', 'conviction', 'convincing', 'convincing', 'cost', 'costner', 'costner', 'costner', 'costner', 'costner', 'costner', 'costner', 'costner', 'costner', 'costner', 'costner', 'costner', 'costner', 'costner', 'costner', 'costner', 'costner', 'costner', 'costner', 'costner', 'costner', 'costner', 'costner', 'costume', 'could', 'could', 'could', 'could', 'could', 'could', 'could', 'could', 'could', 'could', 'could', 'count', 'couple', 'couple', 'courtenay', 'courtenay', 'crashed', 'create', 'credible', 'cry', 'cry', 'cup', 'curiously', 'cut', 'daisy', 'daisy', 'damn', 'dance', 'darling', 'darling', 'darling', 'darling', 'darling', 'david', 'day', 'day', 'day', 'day', 'day', 'day', 'day', 'day', 'day', 'dead', 'dead', 'dead', 'deaden', 'death', 'deceptive', 'decides', 'decision', 'dedicate', 'dedication', 'dedication', 'deep', 'deep', 'definitely', 'definitely', 'definitely', 'definitely', 'definitely', 'deliver', 'demand', 'deniro', 'department', 'deserves', 'desperately', 'desperately', 'despite', 'despite', 'deterioration', 'develops', 'devolves', 'dialog', 'die', 'different', 'different', 'different', 'difficult', 'difficult', 'diligently', 'director', 'disappointment', 'disaster', 'display', 'distraction', 'divide', 'documentary', 'dollar', 'dollar', 'dollar', 'dollar', 'dolly', 'donald', 'dor', 'double', 'doubt', 'doubt', 'downfall', 'drag', 'drama', 'drama', 'dramatics', 'drawn', 'dresser', 'drill', 'driven', 'drop', 'drop', 'drove', 'dumb', 'dvd', 'e-6', 'e-6', 'e-7', 'eagle', 'early', 'earnestness', 'earns', 'earp', 'easily', 'east', 'eastwood', 'echo', 'edge', 'edit', 'edward', 'edward', 'edward', 'edward', 'effect', 'effect', 'effect', 'effect', 'effect', 'effete', 'either', 'elderly', 'elderly', 'element', 'else', 'else', 'elsewhere', 'emotion', 'emotion', 'emotional', 'encrust', 'end', 'end', 'end', 'end', 'end', 'end', 'ending', 'engages', 'engine', 'enjoy', 'enjoy', 'enjoy', 'enjoyable', 'enough', 'enough', 'enough', 'enough', 'enough', 'enter', 'entertain', 'entire', 'entire', 'especially', 'espionage', 'etc', 'evans', 'even', 'even', 'even', 'even', 'even', 'even', 'even', 'event', 'eventually', 'ever', 'ever', 'ever', 'ever', 'ever', 'every', 'everybody', 'everyday', 'everyone', 'everyone', 'everything', 'ex', 'exactly', 'excellent', 'except', 'except', 'exceptional', 'exceptional', 'exceptional', 'exceptionally', 'exemplify', 'exhibit', 'exit', 'expect', 'expect', 'expect', 'expensive', 'experienced', 'explains', 'explains', 'extraordinary', 'face', 'fact', 'fact', 'fail', 'fail', 'faint', 'fall', 'fall', 'fall', 'fall', 'family', 'fan', 'fan', 'far', 'far', 'far', 'far-fetched', 'farewell', 'fashion', 'fashion', 'fashion', 'fault', 'fear', 'fearless', 'feedback', 'feedback', 'feel', 'feel', 'feel', 'feel', 'felt', 'felt', 'felt', 'felt', 'feminine', 'fester', 'fetch', 'fiasco', 'fictional', 'fictional', 'fight', 'film', 'film', 'film', 'film', 'film', 'film', 'film', 'film', 'film', 'film', 'film', 'film', 'film', 'film', 'film', 'film', 'film', 'film', 'film', 'film', 'finally', 'finally', 'finally', 'finally', 'financial', 'find', 'find', 'finney', 'finney', 'finney', 'finney', 'first', 'first', 'first', 'first', 'first', 'first', 'fischer', 'fischer', 'fischer', 'fischer', 'fischer', 'fishing', 'flaw', 'focus', 'follow', 'follow', 'force', 'foreshadow', 'forgot', 'forgotten', 'formulaic', 'fortunate', 'forward', 'found', 'free', 'fresh', 'friend', 'friend', 'frilly', 'front', 'full', 'fun', 'future', 'future', 'gain', 'gal', 'gamble', 'gangster', 'garner', 'gear', 'general', 'generate', 'generation', 'gentleman', 'gentleman', 'gentleman', 'gentleman', 'genuinely', 'gere', 'gere', 'gere', 'gere', 'gere', 'get', 'get', 'get', 'get', 'get', 'get', 'get', 'get', 'get', 'get', 'get', 'get', 'get', 'ghost', 'ghost', 'gift', 'gigi', 'girl', 'girlfriend', 'give', 'give', 'give', 'give', 'give', 'give', 'give', 'give', 'give', 'give', 'go', 'go', 'go', 'go', 'go', 'go', 'go', 'go', 'go', 'go', 'go', 'go', 'go', 'go', 'go', 'go', 'goad', 'goal', 'god', 'godfather', 'good', 'good', 'good', 'good', 'good', 'good', 'good', 'good', 'gosset', 'graduate', 'graduate', 'grainy', 'grant', 'great', 'great', 'great', 'great', 'great', 'great', 'great', 'great', 'great', 'greatness', 'greenlit', 'grindingly', 'grip', 'grown', 'guard', 'guard', 'guard', 'guard', 'guard', 'guard', 'guard', 'guard', 'guard', 'guard', 'guard', 'guardian', 'guardian', 'guardian', 'guardsman', 'guide', 'guy', 'guy', 'guy', 'hackneyed', 'half', 'half', 'half', 'half', 'half', 'hand', 'handle', 'hang', 'happen', 'happen', 'happen', 'happens', 'happens', 'hard', 'hard', 'hari', 'harwood', 'harwood', 'harwood', 'hatch', 'head', 'head', 'health', 'heart', 'heat', 'held', 'helicopter', 'helicopter', 'helicopter', 'help', 'hero', 'hero', 'hero', 'heroic', 'hey', 'hi-tech', 'high', 'highly', 'highly', 'hint', 'hint', 'ho', 'hobble', 'hollywood', 'home', 'honor', 'hood', 'hope', 'hopelessly', 'horribly', 'hour', 'hour', 'hour', 'house', 'however', 'hudson', 'hudson', 'hudson', 'hudson', 'hum', 'human', 'hurricane', 'hurry', 'hybrid', 'ii', 'image', 'imagine', 'imitation', 'immature', 'immediate', 'impact', 'impressed', 'improvement', 'incorporate', 'incredible', 'incredible', 'influence', 'informative', 'inkling', 'inside', 'inside', 'instead', 'instruction', 'instructor', 'instructor', 'instructor', 'intense', 'intention', 'interest', 'interest', 'interest', 'intimidate', 'irresponsible', 'irritate', 'jake', 'jake', 'james', 'job', 'job', 'job', 'john', 'join', 'joke', 'jr', 'judge', 'julie', 'julie', 'julie', 'juxtaposition', 'katrina', 'keanu', 'keep', 'keep', 'keep', 'keep', 'kevin', 'kevin', 'kevin', 'kevin', 'kevin', 'kevin', 'kevin', 'kevin', 'kevin', 'kid', 'kid', 'kill', 'kilter', 'kind', 'kind', 'king', 'knew', 'knew', 'knew', 'know', 'know', 'know', 'know', 'know', 'know', 'know', 'kodiak', 'kostner', 'kutcher', 'kutcher', 'kutcher', 'kutcher', 'kutcher', 'kutcher', 'kutcher', 'kutcher', 'kutcher', 'kutcher', 'kutcher', 'kutcher', 'kutcher', 'kutcher', 'kutcher', 'kutcher', 'kutsher', 'land', 'largely', 'last', 'last', 'last', 'last', 'later', 'laughter', 'lavish', 'layout', 'leading-man', 'leaf', 'lear', 'learn', 'learn', 'learn', 'least', 'leave', 'legendary', 'length', 'let', 'let', 'let', 'level', 'level', 'life', 'life', 'life', 'life', 'life', 'light', 'lightly', 'like', 'like', 'like', 'like', 'like', 'like', 'like', 'like', 'like', 'like', 'like', 'like', 'like', 'like', 'like', 'like', 'like', 'like', 'lili', 'lili', 'lili', 'lili', 'lili', 'lili', 'lili', 'lili', 'limited', 'line', 'line', 'line', 'line', 'line', 'little', 'little', 'little', 'little', 'little', 'little', 'live', 'live', 'living', 'local', 'loftier', 'long', 'long', 'long', 'long', 'long', 'longer', 'look', 'look', 'look', 'look', 'look', 'look', 'look', 'lose', 'lose', 'lou', 'loud', 'love', 'love', 'love', 'love', 'love', 'love', 'love', 'love', 'love-hate', 'lovely', 'lush', 'macho', 'magic', 'main', 'main', 'make', 'make', 'make', 'make', 'make', 'make', 'make', 'make', 'make', 'make', 'make', 'maker', 'man', 'man', 'man', 'man', 'manage', 'many', 'many', 'many', 'many', 'many', 'many', 'married', 'mary', 'massive', 'master', 'master', 'mata', 'matronly', 'matter', 'mature', 'maximum', 'may', 'maybe', 'maybe', 'maybe', 'maybe', 'measure', 'medal', 'mediocre', 'meeting', 'meeting', 'mega', 'mega', 'melt', 'member', 'memorable', 'men', 'men', 'men', 'mentor', 'mgm', 'microphone', 'midst', 'might', 'might', 'military', 'military', 'million', 'million', 'million', 'million', 'million', 'million', 'million', 'million', 'million', 'mine', 'minute', 'minute', 'minute', 'miscalculate', 'miscast', 'miscast', 'miss', 'mission', 'mistime', 'mix', 'modulate', 'moment', 'moment', 'moment', 'monetary', 'money', 'monologue', 'month', 'mood', 'mortenson', 'mostly', 'move', 'move', 'move', 'movie', 'movie', 'movie', 'movie', 'movie', 'movie', 'movie', 'movie', 'movie', 'movie', 'movie', 'movie', 'movie', 'movie', 'movie', 'movie', 'movie', 'movie', 'movie', 'movie', 'movie', 'movie', 'movie', 'movie', 'movie', 'movie', 'movie', 'movie', 'movie', 'movie', 'movie', 'movie', 'movie', 'movie', 'movie', 'movie', 'movie', 'movie', 'movie', 'movie', 'movie', 'movie', 'movie', 'movie', 'movie', 'movie', 'movie', 'movie', 'movie', 'movie', 'movie', 'movie', 'movie', 'movie', 'movie', 'movie', 'movie', 'movie', 'movie', 'movie', 'movie', 'movie', 'movie', 'movie', 'movie', 'movie', 'movie', 'movie', 'movie', 'movie-', 'mr', 'mr', 'much', 'much', 'much', 'much', 'much', 'much', 'much', 'much', 'much', 'much', 'much', 'much', 'mud', 'music', 'music', 'musical', 'musical', 'musical', 'musical', 'musical', 'musical', 'musical', 'must', 'must', 'must', 'must', 'must', 'must', \"n't\", \"n't\", \"n't\", \"n't\", \"n't\", \"n't\", \"n't\", \"n't\", \"n't\", \"n't\", \"n't\", \"n't\", \"n't\", \"n't\", \"n't\", \"n't\", \"n't\", \"n't\", \"n't\", \"n't\", \"n't\", \"n't\", \"n't\", \"n't\", \"n't\", \"n't\", \"n't\", \"n't\", \"n't\", 'narcissism', 'nasa', 'navy', 'navy', 'nearby', 'nearly', 'necessary', 'need', 'need', 'neglect', 'neglect', 'never', 'never', 'never', 'never', 'never', 'never', 'never', 'never', 'never', 'never', 'never', 'never', 'never', 'next', 'next', 'next', 'next', 'night', 'night', 'night', 'night', 'nineteen', 'nit-pick', 'noble', 'nominate', 'none', 'none', 'none', 'notch', 'note', 'nothing', 'nothing', 'notice', 'number', 'number', 'oaag', 'oaag', 'oaag', 'obstacle', 'offer', 'officer', 'officer', 'officer', 'officer', 'official', 'often', 'oh', 'oh', 'ok', 'old', 'old', 'old', 'old', 'old', 'one', 'one', 'one', 'one', 'one', 'one', 'one', 'one', 'one', 'one', 'one', 'one', 'one', 'one', 'one', 'one-dimensional', 'opinion', 'oppose', 'ordinary', 'originality', 'oscar', 'oscar-nominated', 'others', 'otherwise', 'outfit', 'overall', 'overboard', 'overcome', 'overconfident', 'overdose', 'pack', 'packed', 'paint', 'pale', 'panther', 'panther', 'paramount', 'paramount', 'paramount', 'paramount', 'part', 'part', 'part', 'part', 'part', 'part', 'part', 'part', 'part', 'part', 'part', 'part', 'particularly', 'party', 'past', 'past', 'past', 'past', 'past', 'past', 'pathetically', 'pattern', 'pay', 'peck', 'peculiar', 'people', 'perceive', 'perfect', 'perfect', 'perfectly', 'perform', 'performance', 'performance', 'performance', 'performance', 'personal', 'personal', 'personnel', 'perspective', 'peter', 'petty', 'pic', 'pick', 'picture', 'pink', 'pink', 'pirate', 'place', 'place', 'place', 'play', 'play', 'play', 'play', 'play', 'played', 'played', 'played', 'played', 'played', 'played', 'played', 'played', 'playwright', 'pleasure', 'plot', 'plot', 'po', 'point', 'point', 'point', 'point', 'point', 'point', 'pointless', 'poppins', 'poppins', 'poppins', 'popular', 'porridge', 'portrait', 'portrayed', 'position', 'position', 'possible', 'possibly', 'postman', 'powerful', 'pre-release', 'predictable', 'predictable', 'presence', 'present', 'pretty', 'pretty', 'preview', 'preview', 'prior', 'probably', 'probably', 'probably', 'problem', 'problem', 'problem', 'problem', 'problem', 'prod', 'produce', 'production', 'production', 'production', 'professional', 'professionalism', 'proffer', 'property', 'proportion', 'propped', 'protect', 'prove', 'prove', 'provide', 'provide', 'public', 'puddle', 'puddle', 'pull', 'punk', 'pursuit', 'qualify', 'quality', 'quick-thinking', 'quit', 'quit', 'quit', 'quite', 'quote', 'radio', 'rag', 'raid', 'ran', 'randall', 'randall', 'randall', 'randall', 'randall', 'rank', 'rate', 'rate', 'rather', 'rather', 'rather', 'ready', 'real', 'real', 'real', 'real', 'real', 'real', 'real', 'reality', 'realize', 'realizes', 'really', 'really', 'really', 'really', 'really', 'really', 'really', 'really', 'really', 'really', 'really', 'recommend', 'recommend', 'recommend', 'recover', 'recruit', 'recruiting', 'recruitment', 'redeem', 'redemption', 'reef', 'relationship', 'release', 'release', 'reluctant', 'remind', 'remind', 'reply', 'represent', 'representative', 'rescue', 'rescue', 'rescue', 'rescue', 'rescue', 'rescue', 'rescue', 'rescue', 'rescue', 'rescue', 'rescue', 'rescue', 'rest', 'rest', 'result', 'result', 'result', 'result', 'review', 'revolve', 'richard', 'richard', 'rid', 'ride', 'ridiculous', 'right', 'ripped', 'rise', 'risk', 'robert', 'robert', 'robin', 'robinson', 'robust', 'role', 'role', 'role', 'role', 'role', 'role', 'role', 'romance', 'romance', 'romance', 'ronald', 'ronald', 'room', 'room', 'room', 'rough', 'run', 'rupture', 'russell', 'saddle', 'sadistic', 'sadly', 'sadly', 'safety', 'safety', 'sar', 'sar', 'save', 'save', 'save', 'saw', 'saw', 'saw', 'saw', 'say', 'say', 'say', 'say', 'say', 'say', 'say', 'scary', 'scenarist', 'scene', 'scene', 'scene', 'scene', 'scene', 'scene', 'scene', 'scene', 'scene', 'scene', 'scene', 'scene', 'scene', 'scenery-chewing', 'school', 'school', 'school', 'school', 'screen', 'script', 'script', 'script', 'script', 'sea', 'sea', 'sea', 'sea', 'sea', 'search', 'search', 'seat', 'second', 'second', 'see', 'see', 'see', 'see', 'see', 'see', 'see', 'see', 'see', 'see', 'see', 'see', 'see', 'see', 'see', 'see', 'see', 'see', 'see', 'see', 'see', 'see', 'see', 'see', 'seem', 'seem', 'seem', 'seem', 'seem', 'seem', 'seem', 'seem', 'seem', 'seem', 'seemingly', 'seer', 'sela', 'sela', 'selfish', 'sell', 'sell', 'sell', 'sense', 'sense', 'sense', 'sense', 'sequence', 'sequence', 'sequence', 'serf', 'serious', 'servant', 'servant', 'set', 'several', 'shakespearean', 'shame', 'shamelessly', 'shift', 'show', 'show', 'show', 'show', 'show', 'shush', 'sign', 'sign', 'simple', 'simply', 'since', 'since', 'singer', 'sink', 'sinking', 'sir', 'situation', 'situation', 'situation', 'six', 'sixpence', 'skill', 'slightly', 'slow', 'smooth', 'sneak', 'sneak', 'sob', 'something', 'something', 'sometime', 'son', 'song', 'song', 'sore', 'sorry', 'sound', 'sound', 'sound', 'special', 'special', 'specifically', 'spectacular', 'spectacular', 'spice', 'spirit', 'spoil', 'spoiler', 'spoiler', 'spoof', 'spot', 'spy', 'spy', 'square', 'squirmy', 'stage', 'stage', 'stand', 'star', 'star', 'star', 'star', 'start', 'status', 'stayed', 'stereotype', 'stereotype', 'stereotypical', 'stereotypical', 'stick', 'stiff', 'still', 'still', 'still', 'stinker', 'stock', 'stop', 'storm', 'storm', 'story', 'story', 'story', 'story', 'story', 'story', 'story', 'story', 'story', 'storyline', 'strengthen', 'string', 'strongly', 'struck', 'stuff', 'stuff', 'style', 'sub', 'sublime', 'success', 'succession', 'suggest', 'suggest', 'sun', 'sunday', 'support', 'support', 'support', 'support', 'suppose', 'suppose', 'supposedly', 'sure', 'sure', 'sure', 'surely', 'surface', 'surface', 'survival', 'swimmer', 'swimmer', 'swimmer', 'swimmer', 'swimmer', 'swimmer', 'swimmer', 'swimmingly', 'tad', 'take', 'take', 'take', 'take', 'take', 'teach', 'teach', 'teacher', 'team', 'team', 'tear', 'tear', 'tear', 'technically', 'tell', 'tell', 'tell', 'tender', 'tense', 'tension', 'terrible', 'terrific', 'tether', 'thank', 'thank', 'thankfully', 'theater', 'theater', 'theatre', 'theatrical', 'thespian', 'think', 'think', 'think', 'think', 'think', 'think', 'think', 'think', 'think', 'third', 'third', 'thomas', 'though', 'though', 'though', 'though', 'though', 'thought', 'thought', 'three', 'three', 'three', 'thumb', 'tie', 'time', 'time', 'time', 'time', 'time', 'time', 'timer', 'tin', 'title', 'told', 'tom', 'tomorrow', 'tone', 'top', 'totally', 'tough', 'tough', 'toy', 'train', 'training', 'transfer', 'transparent', 'trouble', 'troubled', 'troubled', 'troubled', 'troupe', 'truly', 'truly', 'truly', 'try', 'try', 'try', 'try', 'try', 'tune', 'turn', 'turn', 'turn', 'tv', 'twee', 'two', 'two', 'two', 'two', 'two', 'two', 'two', 'two', 'typecast', 'typical', 'u', 'u', 'u', 'u', 'u', 'u', 'unaccredited', 'uncertain', 'under-appreciated', 'under-promoted', 'underrated', 'understandably', 'understood', 'unfortunately', 'unfortunately', 'unknown', 'unlike', 'unravel', 'unrelated', 'unturned', 'uscg', 'uscg', 'uscg', 'uscg', 'uscg', 'use', 'use', 'use', 'use', 'use', 'usual', 'usual', 'usually', 'v', 'vast', 'versa', 'vessel', 'vessel', 'vessel', 'vice', 'view', 'view', 'viewer', 'viewer', 'vigo', 'virtue', 'visit', 'visual', 'voice', 'vulgar', 'wagon', 'wait', 'wan', 'wannabe', 'want', 'want', 'want', 'want', 'want', 'war', 'war', 'war', 'war', 'ward', 'ward', 'wash', 'wash', 'waste', 'waste', 'watch', 'watch', 'watch', 'watch', 'watch', 'watch', 'watch-ability', 'watchstander', 'water', 'water', 'waterworld', 'waver', 'way', 'way', 'way', 'way', 'way', 'way', 'way', 'wayne', 'weak', 'weaker', 'wear', 'welcome', 'well', 'well', 'well', 'well', 'well', 'well', 'well', 'well', 'well', 'well', 'well', 'well', 'well', 'well', 'well', 'were/are', 'whole', 'whose', 'wife', 'wife', 'wife', 'wife', 'wife', 'win', 'winner', 'wise', 'wish', 'within', 'without', 'without', 'wolfit', 'woman', 'woman', 'woman', 'wooden', 'work', 'work', 'work', 'work', 'work', 'work', 'world', 'worth', 'worth', 'worth', 'worth', 'would', 'would', 'would', 'would', 'would', 'would', 'would', 'would', 'would', 'would', 'would', 'wow', 'wreck', 'write', 'write', 'wrong', 'wwii', 'wyatt', 'yardstick', 'yates', 'yawn', 'year', 'year', 'year', 'year', 'year', 'yes', 'yet', 'yet', 'yet', 'young', 'young', 'young', 'yup', 'zeppelin']\n",
            "2244\n"
          ]
        }
      ],
      "source": [
        "from nltk.corpus import wordnet  \n",
        "nltk.download('averaged_perceptron_tagger')\n",
        "\n",
        "print(nltk.pos_tag([\"meaningful\"])[0][1][0])\n",
        "       \n",
        "def get_wordnet_pos(word):\n",
        "    tag = nltk.pos_tag([word])[0][1][0].upper()\n",
        "    tag_dict = {\"J\": wordnet.ADJ,\n",
        "                \"N\": wordnet.NOUN,\n",
        "                \"V\": wordnet.VERB,\n",
        "                \"R\": wordnet.ADV}\n",
        "    return tag_dict.get(tag, wordnet.NOUN)\n",
        "\n",
        "#Your Code Here\n"
      ]
    },
    {
      "cell_type": "markdown",
      "metadata": {
        "id": "rlbu-C_Qm1Iq"
      },
      "source": [
        "#### 2. Tagging our data\n",
        "\n",
        "nltk.pos_tag() returns a tuple with the POS tag. The key here is to map NLTK’s POS tags to the format wordnet lemmatizer would accept. The get_wordnet_pos() function defined below does this mapping job.\n",
        "\n",
        "Reference: https://www.machinelearningplus.com/nlp/lemmatization-examples-python/"
      ]
    },
    {
      "cell_type": "code",
      "execution_count": null,
      "metadata": {
        "id": "VbdJvCs9m1Iq"
      },
      "outputs": [],
      "source": [
        "text = word_tokenize(\"faking a review for tagging purpose\")\n",
        "#Your Code Here\n"
      ]
    },
    {
      "cell_type": "code",
      "execution_count": null,
      "metadata": {
        "id": "A98p2PVCm1Iq"
      },
      "outputs": [],
      "source": [
        "from collections import Counter\n",
        "\n",
        "#Your Code Here\n"
      ]
    },
    {
      "cell_type": "markdown",
      "metadata": {
        "id": "IfX9Mqqem1Ir"
      },
      "source": [
        "### Counting Words"
      ]
    },
    {
      "cell_type": "markdown",
      "metadata": {
        "id": "arzyob5Cm1Ir"
      },
      "source": [
        "#### 1. Check Vocabulary Diversity\n",
        "set() creates a distinct collection of the iterable elements (all words here)."
      ]
    },
    {
      "cell_type": "code",
      "execution_count": null,
      "metadata": {
        "id": "cIXlmiHim1Ir"
      },
      "outputs": [],
      "source": [
        "print (len(set(lemm_words)))  # number of distinct words\n",
        "print (len(lemm_words))    # number of total words\n",
        "#Your Code Here\n"
      ]
    },
    {
      "cell_type": "markdown",
      "metadata": {
        "id": "1UCWRRMZm1Ir"
      },
      "source": [
        "#### 2. Count total words and unique words"
      ]
    },
    {
      "cell_type": "code",
      "execution_count": null,
      "metadata": {
        "id": "pdf31OEzm1Is"
      },
      "outputs": [],
      "source": [
        "# create a dictionary to store uniques words and their counts.\n",
        "count = {}\n",
        "#Your Code Here\n",
        "\n",
        "# \"key=lambda\" allows us to sort our dictionary by value. \n",
        "# This is an example of a Lambda function, which is a function without a name.\n",
        "# default it's ascending sort, \"reverse=True\" flips the order to descending.\n"
      ]
    },
    {
      "cell_type": "markdown",
      "metadata": {
        "id": "y5OyoKi4m1Is"
      },
      "source": [
        "#### 3. NLTK's Frequency Distributions Functions\n",
        "\n",
        "    fdist = FreqDist(samples)\tcreate a frequency distribution containing the given samples\n",
        "    fdist[sample] += 1\tincrement the count for this sample\n",
        "    fdist['monstrous']\tcount of the number of times a given sample occurred\n",
        "    fdist.freq('monstrous')\tfrequency of a given sample\n",
        "    fdist.N()\ttotal number of samples\n",
        "    fdist.most_common(n)\tthe n most common samples and their frequencies\n",
        "    for sample in fdist:\titerate over the samples\n",
        "    fdist.max()\tsample with the greatest count\n",
        "    fdist.tabulate()\ttabulate the frequency distribution\n",
        "    fdist.plot()\tgraphical plot of the frequency distribution\n",
        "    fdist.plot(cumulative=True)\tcumulative plot of the frequency distribution\n",
        "    fdist1 |= fdist2\tupdate fdist1 with counts from fdist2\n",
        "    fdist1 < fdist2\ttest if samples in fdist1 occur less frequently than in fdist2"
      ]
    },
    {
      "cell_type": "code",
      "execution_count": null,
      "metadata": {
        "id": "XIMrS_BKm1Is"
      },
      "outputs": [],
      "source": [
        "from nltk import FreqDist #frequency distribution\n",
        "\n",
        "#Your Code Here\n"
      ]
    },
    {
      "cell_type": "code",
      "execution_count": null,
      "metadata": {
        "id": "BoG0TKxCm1Is"
      },
      "outputs": [],
      "source": [
        "! pip install matplotlib #creating static, animated, and interactive visualizations"
      ]
    },
    {
      "cell_type": "code",
      "execution_count": null,
      "metadata": {
        "id": "y7CsFXMNm1Is"
      },
      "outputs": [],
      "source": [
        "import matplotlib.pyplot as plt #basically matlab\n",
        "#Your Code Here\n"
      ]
    },
    {
      "cell_type": "markdown",
      "metadata": {
        "id": "0HMkHVEOm1It"
      },
      "source": [
        "### Dispersion Plot\n",
        "\n",
        "Show the location of words in the collection."
      ]
    },
    {
      "cell_type": "code",
      "execution_count": null,
      "metadata": {
        "id": "AP8yETx8m1It"
      },
      "outputs": [],
      "source": [
        "from nltk.draw.dispersion import dispersion_plot \n",
        "\n",
        "#Your Code Here\n"
      ]
    },
    {
      "cell_type": "markdown",
      "metadata": {
        "id": "nuw0eaBHm1It"
      },
      "source": [
        "Reference: \n",
        "\n",
        "        https://www.nltk.org/book/ch01.html\n",
        "        https://www.nltk.org/\n",
        "\n"
      ]
    }
  ],
  "metadata": {
    "kernelspec": {
      "display_name": "Python 3 (ipykernel)",
      "language": "python",
      "name": "python3"
    },
    "language_info": {
      "codemirror_mode": {
        "name": "ipython",
        "version": 3
      },
      "file_extension": ".py",
      "mimetype": "text/x-python",
      "name": "python",
      "nbconvert_exporter": "python",
      "pygments_lexer": "ipython3",
      "version": "3.8.8"
    },
    "colab": {
      "provenance": []
    }
  },
  "nbformat": 4,
  "nbformat_minor": 0
}